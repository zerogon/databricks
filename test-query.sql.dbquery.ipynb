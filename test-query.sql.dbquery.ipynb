{
 "cells": [
  {
   "cell_type": "code",
   "execution_count": 0,
   "metadata": {
    "application/vnd.databricks.v1+cell": {
     "cellMetadata": {},
     "inputWidgets": {},
     "nuid": "1704f30f-8af0-4cb1-b943-176bbbc1671a",
     "showTitle": false,
     "tableResultSettingsMap": {},
     "title": ""
    }
   },
   "outputs": [],
   "source": [
    " -- billing 정보 일부 조회 \r\n",
    "SELECT * FROM system.billing.usage LIMIT 10; \r\n",
    "\r\n",
    "-- 현재 존재하는 테이블 리스트 확인\r\n",
    "SELECT * FROM system.information_schema.tables WHERE table_schema = 'default';\r\n",
    "\r\n"
   ]
  }
 ],
 "metadata": {
  "application/vnd.databricks.v1+notebook": {
   "computePreferences": null,
   "dashboards": [],
   "environmentMetadata": null,
   "inputWidgetPreferences": null,
   "language": "sql",
   "notebookMetadata": {
    "sqlQueryOptions": {
     "applyAutoLimit": true,
     "catalog": "workspace",
     "schema": "information_schema"
    }
   },
   "notebookName": "test-query.sql.dbquery.ipynb",
   "widgets": {}
  },
  "language_info": {
   "name": "sql"
  }
 },
 "nbformat": 4,
 "nbformat_minor": 0
}
